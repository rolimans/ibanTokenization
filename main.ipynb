{
 "cells": [
  {
   "cell_type": "markdown",
   "metadata": {},
   "source": [
    "# FS2024: 21109 Privacy and Data Security - Exercise 10"
   ]
  },
  {
   "cell_type": "markdown",
   "metadata": {},
   "source": [
    "## IBAN Tokenization\n",
    "### Student: Eduardo Rodrigues Amaral - EU-110079796"
   ]
  },
  {
   "cell_type": "markdown",
   "metadata": {},
   "source": [
    "### Library Imports"
   ]
  },
  {
   "cell_type": "code",
   "execution_count": 1,
   "metadata": {},
   "outputs": [],
   "source": [
    "import hashlib\n",
    "import hmac\n",
    "import sys"
   ]
  },
  {
   "cell_type": "markdown",
   "metadata": {},
   "source": [
    "### 10.1 Irreversible tokenization\n",
    "\n",
    "An *International Bank Account Number (IBAN)* contains a two-digit checksum to protect it from errors made by humans when copying the number.\n",
    "\n",
    "An IBAN is a string of up to 34 alphanumeric characters (digits and capital letters). The string contains, in this order, (1) a country code of two letters, (2) two decimal check digits, and (3) an account number of up to 30 characters. Format and length of the account number vary by country. An IBAN in Switzerland consists of 21 characters according to the pattern:\n",
    "\n",
    "<center> <code> CHzz bbbb bccc cccc cccc c </code> </center>\n",
    "\n",
    "Here $CH$ denotes the country code, $zz$ are the check digits, $bbbbb$ denote the bank (Swiss Bank Clearing Number), and $cc...$ contains the account number at the bank.\n",
    "\n",
    "To check the validity of an IBAN string s, perform these four steps:\n",
    "\n",
    "1. Move the first four characters to the end of $s$.\n",
    "2. Replace every letter in $s$ by two digits, according to the rule $A = 10$, $B = 11$, $...$, $Z = 36$. Note that $s$ may get longer.\n",
    "3. Interpret $s$ as a number $n$ in decimal notation.\n",
    "4. If $n ≡ 1$ $(mod$ $97)$, then $s$ contains a valid IBAN, otherwise not.\n",
    "\n",
    "\n",
    "\n"
   ]
  },
  {
   "cell_type": "markdown",
   "metadata": {},
   "source": [
    "#### a)\n",
    "\n",
    "Implement a function `check_iban(s)` in Python that returns `True` whenever the IBAN in string $s$ is valid."
   ]
  },
  {
   "cell_type": "code",
   "execution_count": 2,
   "metadata": {},
   "outputs": [],
   "source": [
    "def check_iban(iban):\n",
    "  # Normalize the string (remove spaces and convert to uppercase)\n",
    "  iban = iban.replace(' ', '').upper()\n",
    "\n",
    "  # Move the first four characters to the end\n",
    "  modifiedIban = iban[4:] + iban[:4]\n",
    "\n",
    "  # Replace every letter with its corresponding number (A=10, ..., Z=36)\n",
    "  numericIban = ''\n",
    "  for char in modifiedIban:\n",
    "    if char.isalpha():\n",
    "      # Convert letter to number (A=10, B=11, ..., Z=36)\n",
    "      numericIban += str(ord(char) - ord('A') + 10)\n",
    "    else:\n",
    "      numericIban += char\n",
    "\n",
    "  # Convert the string to a large integer\n",
    "  ibanNumber = int(numericIban)\n",
    "\n",
    "  # Check if the number modulo 97 is equal to 1\n",
    "  return ibanNumber % 97 == 1"
   ]
  },
  {
   "cell_type": "code",
   "execution_count": 3,
   "metadata": {},
   "outputs": [
    {
     "name": "stdout",
     "output_type": "stream",
     "text": [
      "Valid IBAN (CH9300762011623852957): True\n",
      "Invalid IBAN (CH9300762011623852958): False\n"
     ]
    }
   ],
   "source": [
    "validIban = 'CH9300762011623852957'\n",
    "invalidIban = 'CH9300762011623852958'\n",
    "\n",
    "print(f'Valid IBAN ({validIban}): {check_iban(validIban)}')\n",
    "print(f'Invalid IBAN ({invalidIban}): {check_iban(invalidIban)}')"
   ]
  },
  {
   "cell_type": "markdown",
   "metadata": {},
   "source": [
    "#### b)\n",
    "\n",
    "Implement a hash-based *irreversible tokenization* function `hash_token(s)` that takes valid Swiss IBAN in $s$ and returns another valid Swiss IBAN. Use the cycle-walking method and SHA-256 from Python’s `hashlib`."
   ]
  },
  {
   "cell_type": "code",
   "execution_count": 4,
   "metadata": {},
   "outputs": [
    {
     "name": "stdout",
     "output_type": "stream",
     "text": [
      "Hashing IBAN CH9300762011623852957...\n",
      "Hashed IBAN: CH3746013475049694776\n",
      "Valid IBAN (CH3746013475049694776): True\n",
      "Multiple hashing of the same IBAN results in the same hashed IBAN? True\n"
     ]
    }
   ],
   "source": [
    "def hash_token(s):\n",
    "  if not check_iban(s):\n",
    "    raise ValueError(\"Invalid IBAN provided\")\n",
    "\n",
    "  while True:\n",
    "    # Extract the numeric part of the IBAN\n",
    "    numericIbanPart = s[2:]  # Remove 'CH' prefix\n",
    "\n",
    "    # Hash the current numeric IBAN part\n",
    "    hashDigest = hashlib.sha256(numericIbanPart.encode()).hexdigest()\n",
    "    \n",
    "    # Convert hash to integer and truncate to 19 digits\n",
    "    # to obtain a new IBAN numeric part candidate\n",
    "    newNumericIbanPartCandidate = int(hashDigest, 16) % 10**19\n",
    "\n",
    "    # Construct a new Swiss IBAN with 'CH'\n",
    "    newIbanCandidate = 'CH' + str(newNumericIbanPartCandidate)\n",
    "\n",
    "    # Validate the new IBAN\n",
    "    if check_iban(newIbanCandidate):\n",
    "      return newIbanCandidate\n",
    "\n",
    "    # Prepare next iteration with the new IBAN candidate\n",
    "    s = newIbanCandidate\n",
    "\n",
    "print(f'Hashing IBAN {validIban}...')\n",
    "\n",
    "hashedIban = hash_token(validIban)\n",
    "\n",
    "print(f'Hashed IBAN: {hashedIban}')\n",
    "\n",
    "print(f'Valid IBAN ({hashedIban}): {check_iban(hashedIban)}')\n",
    "\n",
    "secondTimeHashedIban = hash_token(validIban)\n",
    "\n",
    "print(f'Multiple hashing of the same IBAN results \\\n",
    "in the same hashed IBAN? {hashedIban == secondTimeHashedIban}')\n"
   ]
  },
  {
   "cell_type": "markdown",
   "metadata": {},
   "source": [
    "#### c)\n",
    "\n",
    "Extend your tokenization function to a *keyed* irreversible tokenization function `mac_token(key,s)`, which additionally takes an arbitrary string `key` as input that serves as the key. Use HMAC-SHA256 from Python’s `hmac` library and the cycle-walking method."
   ]
  },
  {
   "cell_type": "code",
   "execution_count": 5,
   "metadata": {},
   "outputs": [
    {
     "name": "stdout",
     "output_type": "stream",
     "text": [
      "Hashing IBAN CH9300762011623852957 with secret key \"eduardo\"...\n",
      "Hashed IBAN: CH3150821075000344956\n",
      "Valid IBAN (CH3150821075000344956): True\n",
      "Multiple hashing of the same IBAN with same key results in the same hashed IBAN? True\n",
      "Hashing IBAN CH9300762011623852957 with different secret key \"amaral\"...\n",
      "Hashed IBAN: CH4916437570836671086\n",
      "Valid IBAN (CH4916437570836671086): True\n",
      "Hashed IBAN with different key is different than hashed IBAN with original key? True\n"
     ]
    }
   ],
   "source": [
    "def mack_token(key,s):\n",
    "  if not check_iban(s):\n",
    "    raise ValueError(\"Invalid IBAN provided\")\n",
    "\n",
    "  while True:\n",
    "    # Extract the numeric part of the IBAN\n",
    "    numericIbanPart = s[2:]  # Remove 'CH' prefix\n",
    "\n",
    "    # Use HMAC with SHA-256 and the given key to hash\n",
    "    # the current numeric part of the IBAN\n",
    "    hashDigest = hmac.new(key.encode(),\n",
    "              numericIbanPart.encode(), hashlib.sha256).hexdigest()\n",
    "    \n",
    "    # Convert hash to integer and truncate to 19 digits to\n",
    "    # obtain a new IBAN numeric part candidate\n",
    "    newNumericIbanPartCandidate = int(hashDigest, 16) % 10**19\n",
    "\n",
    "    # Construct a new Swiss IBAN with 'CH'\n",
    "    newIbanCandidate = 'CH' + str(newNumericIbanPartCandidate)\n",
    "\n",
    "    # Validate the new IBAN\n",
    "    if check_iban(newIbanCandidate):\n",
    "      return newIbanCandidate\n",
    "\n",
    "    # Prepare next iteration with the new IBAN candidate\n",
    "    s = newIbanCandidate\n",
    "\n",
    "secretKey = 'eduardo'\n",
    "\n",
    "print(f'Hashing IBAN {validIban} with secret key \"{secretKey}\"...')\n",
    "\n",
    "hashedIban = mack_token(secretKey, validIban)\n",
    "\n",
    "print(f'Hashed IBAN: {hashedIban}')\n",
    "\n",
    "print(f'Valid IBAN ({hashedIban}): {check_iban(hashedIban)}')\n",
    "\n",
    "secondTimeHashedIban = mack_token(secretKey, validIban)\n",
    "\n",
    "print(f'Multiple hashing of the same IBAN with \\\n",
    "same key results in the same hashed IBAN? \\\n",
    "{hashedIban == secondTimeHashedIban}')\n",
    "\n",
    "differentSecretKey = 'amaral'\n",
    "\n",
    "print(f'Hashing IBAN {validIban} with \\\n",
    "different secret key \"{differentSecretKey}\"...')\n",
    "\n",
    "hashedIbanWithDifferentKey = mack_token(differentSecretKey, validIban)\n",
    "\n",
    "print(f'Hashed IBAN: {hashedIbanWithDifferentKey}')\n",
    "\n",
    "print(f'Valid IBAN ({hashedIbanWithDifferentKey}): \\\n",
    "{check_iban(hashedIbanWithDifferentKey)}')\n",
    "\n",
    "print(f'Hashed IBAN with different key is different \\\n",
    "than hashed IBAN with original key? \\\n",
    "{hashedIban != hashedIbanWithDifferentKey}')\n",
    "\n"
   ]
  },
  {
   "cell_type": "markdown",
   "metadata": {},
   "source": [
    "### 10.2 Reversible tokenization with FPE\n",
    "\n",
    "Format-preserving encryption (FPE) can be used for *reversible tokenization*. The auxiliary file `ex10-smallcipher.py` contains a Python implementation of a small-domain encryption algorithm `smallcipher_encrypt`, according to Black and Rogaway [BR02] and Bellare et al. [BRRS09, Scheme FE2/FD2, Fig. 3]\n"
   ]
  },
  {
   "cell_type": "code",
   "execution_count": 6,
   "metadata": {},
   "outputs": [],
   "source": [
    "# ex10-smallcipher.py auxiliary code\n",
    "\n",
    "def smallcipher_encrypt(key, tweak, hashalg, m, a, b, r):\n",
    "  L = m // b\n",
    "  R = m % b\n",
    "  for i in range(1, r + 1):\n",
    "    if (i & 0x01):\n",
    "      s = a\n",
    "    else:\n",
    "      s = b\n",
    "    tmp = R\n",
    "    rstr = (str(a) + '|' + str(b) + '|' + str(tweak) + '|' + str(i)\n",
    "      + '|' + str(R)).encode('ascii')\n",
    "    f = int.from_bytes(hmac.digest(key, rstr, hashalg), \n",
    "           byteorder=sys.byteorder)\n",
    "    R = (L + f) % s\n",
    "    L = tmp\n",
    "  return s * L + R"
   ]
  },
  {
   "cell_type": "markdown",
   "metadata": {},
   "source": [
    "#### a)\n",
    "\n",
    "Implement an FPE-based *reversible tokenization* function `fpe_encrypt(key,tweak, s)` to compute an FPE of a string $s$ that contains a valid Swiss IBAN. Let `key` be the encryption key and `tweak` be an arbitrary string that “tweaks” the small-domain cipher; it can be thought of a domain separator."
   ]
  },
  {
   "cell_type": "code",
   "execution_count": 7,
   "metadata": {},
   "outputs": [
    {
     "name": "stdout",
     "output_type": "stream",
     "text": [
      "Encrypting IBAN CH9300762011623852957 with secret key \"eduardo\" and tweak \"tweak\"...\n",
      "Encrypted IBAN: CH6833786179316117748\n",
      "Valid IBAN (CH6833786179316117748): True\n",
      "Multiple encryption of the same IBAN with same key and tweak results in the same encrypted IBAN? True\n"
     ]
    }
   ],
   "source": [
    "def fpe_encrypt(key,tweak, s):\n",
    "  if not check_iban(s):\n",
    "    raise ValueError(\"Invalid IBAN provided\")\n",
    "\n",
    "  while True:\n",
    "    # Extract the numeric part of the IBAN\n",
    "    numericIbanPart = s[2:]  # Remove 'CH' prefix\n",
    "\n",
    "    # Encrypt the current numeric part of the IBAN\n",
    "    encryptedNumeric = smallcipher_encrypt(key.encode(),\n",
    "       tweak, hashlib.sha256 , int(numericIbanPart), 10**19, 10**19, 10)\n",
    "    \n",
    "    # Truncate to 19 digits to obtain a new IBAN numeric part candidate\n",
    "    newNumericIbanPartCandidate = encryptedNumeric % 10**19\n",
    "\n",
    "    # Construct a new Swiss IBAN with 'CH'\n",
    "    newIbanCandidate = 'CH' + str(newNumericIbanPartCandidate)\n",
    "\n",
    "    # Validate the new IBAN\n",
    "    if check_iban(newIbanCandidate):\n",
    "      return newIbanCandidate\n",
    "\n",
    "    # Prepare next iteration with the new IBAN candidate\n",
    "    s = newIbanCandidate\n",
    "  \n",
    "\n",
    "secretKey = 'eduardo'\n",
    "tweak = 'tweak'\n",
    "\n",
    "print(f'Encrypting IBAN {validIban} with secret key \\\n",
    "\"{secretKey}\" and tweak \"{tweak}\"...')\n",
    "encryptedIban = fpe_encrypt(secretKey, tweak, validIban)\n",
    "\n",
    "print(f'Encrypted IBAN: {encryptedIban}')\n",
    "\n",
    "print(f'Valid IBAN ({encryptedIban}): {check_iban(encryptedIban)}')\n",
    "\n",
    "secondTimeEncryptedIban = fpe_encrypt(secretKey, tweak, validIban)\n",
    "\n",
    "print(f'Multiple encryption of the same IBAN with same key and tweak \\\n",
    "results in the same encrypted IBAN? \\\n",
    "{encryptedIban == secondTimeEncryptedIban}')\n",
    "\n"
   ]
  },
  {
   "cell_type": "markdown",
   "metadata": {},
   "source": [
    "#### b)\n",
    "\n",
    "Implement the corresponding decryption algorithm and verify that it inverts the encryption."
   ]
  },
  {
   "cell_type": "code",
   "execution_count": 8,
   "metadata": {},
   "outputs": [],
   "source": [
    "# Decryption algorithm based on FD2 algorithm from the paper\n",
    "\n",
    "def smallcipher_decrypt(key, tweak, hashalg, c, a, b, r):\n",
    "  if r % 2 == 1:\n",
    "    s = a\n",
    "  else:\n",
    "    s = b\n",
    "  \n",
    "  L = c % s\n",
    "  R = c // s\n",
    "\n",
    "  for i in range(r-1, -1, -1):\n",
    "    if i % 2 == 1:\n",
    "      s = a\n",
    "    else :\n",
    "      s = b\n",
    "\n",
    "    tmp = L\n",
    "\n",
    "    rstr = (str(a) + '|' + str(b) + '|' + str(tweak) + '|' + str(i) +\n",
    "             '|' + str(L)).encode('ascii')\n",
    "    f = int.from_bytes(hmac.digest(key, rstr, hashalg),\n",
    "                       byteorder=sys.byteorder)\n",
    "\n",
    "    L = (R - f) % s\n",
    "    \n",
    "    R = tmp\n",
    "  \n",
    "  return s * R + L\n",
    "    \n",
    "    "
   ]
  },
  {
   "cell_type": "code",
   "execution_count": 9,
   "metadata": {},
   "outputs": [
    {
     "name": "stdout",
     "output_type": "stream",
     "text": [
      "Encrypting IBAN CH9300762011623852957 with secret key \"eduardo\" and tweak \"tweak\"...\n",
      "Encrypted IBAN: CH6833786179316117748\n",
      "Valid IBAN (CH6833786179316117748): True\n",
      "Decrypted IBAN: CH6944236514956139830\n",
      "Valid IBAN (CH6944236514956139830): True\n",
      "Decrypted IBAN is equal to original IBAN? False\n"
     ]
    }
   ],
   "source": [
    "def fpe_decrypt(key,tweak, s):\n",
    "  if not check_iban(s):\n",
    "    raise ValueError(\"Invalid IBAN provided\")\n",
    "\n",
    "  while True:\n",
    "    # Extract the numeric part of the IBAN\n",
    "    numericIbanPart = s[2:]  # Remove 'CH' prefix\n",
    "\n",
    "    # Decrypt the current numeric part of the IBAN\n",
    "    decryptedNumeric = smallcipher_decrypt(key.encode(),\n",
    "     tweak, hashlib.sha256 , int(numericIbanPart), 10**19, 10**19, 10)\n",
    "    \n",
    "    # Truncate to 19 digits to obtain a new IBAN numeric part candidate\n",
    "    newNumericIbanPartCandidate = decryptedNumeric % 10**19\n",
    "\n",
    "    # Construct a new Swiss IBAN with 'CH'\n",
    "    newIbanCandidate = 'CH' + str(newNumericIbanPartCandidate)\n",
    "\n",
    "    # Validate the new IBAN\n",
    "    if check_iban(newIbanCandidate):\n",
    "      return newIbanCandidate\n",
    "\n",
    "    # Prepare next iteration with the new IBAN candidate\n",
    "    s = newIbanCandidate\n",
    "\n",
    "secretKey = 'eduardo'\n",
    "tweak = 'tweak'\n",
    "\n",
    "print(f'Encrypting IBAN {validIban} with secret key \\\n",
    "\"{secretKey}\" and tweak \"{tweak}\"...')\n",
    "\n",
    "encryptedIban = fpe_encrypt(secretKey, tweak, validIban)\n",
    "\n",
    "print(f'Encrypted IBAN: {encryptedIban}')\n",
    "\n",
    "print(f'Valid IBAN ({encryptedIban}): {check_iban(encryptedIban)}')\n",
    "\n",
    "decryptedIban = fpe_decrypt(secretKey, tweak, encryptedIban)\n",
    "\n",
    "print(f'Decrypted IBAN: {decryptedIban}')\n",
    "\n",
    "print(f'Valid IBAN ({decryptedIban}): {check_iban(decryptedIban)}')\n",
    "\n",
    "print(f'Decrypted IBAN is equal to original IBAN? \\\n",
    "{decryptedIban == validIban}')\n"
   ]
  },
  {
   "cell_type": "markdown",
   "metadata": {},
   "source": [
    "<font color='red'>The decryption algorithm did not work as expected. Even tough I implemented the algorithm as described in the paper, the decryption algorithm did not return the original IBAN. I tried to debug the code, but I was not able to find the error.</font> "
   ]
  },
  {
   "cell_type": "markdown",
   "metadata": {},
   "source": [
    "Use again the cycle-walking method, as developed for Problem 10.1."
   ]
  }
 ],
 "metadata": {
  "kernelspec": {
   "display_name": "diffPrivacyEnv",
   "language": "python",
   "name": "python3"
  },
  "language_info": {
   "codemirror_mode": {
    "name": "ipython",
    "version": 3
   },
   "file_extension": ".py",
   "mimetype": "text/x-python",
   "name": "python",
   "nbconvert_exporter": "python",
   "pygments_lexer": "ipython3",
   "version": "3.9.6"
  }
 },
 "nbformat": 4,
 "nbformat_minor": 2
}
